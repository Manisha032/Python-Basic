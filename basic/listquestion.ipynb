{
 "cells": [
  {
   "cell_type": "code",
   "execution_count": 1,
   "metadata": {},
   "outputs": [
    {
     "name": "stdout",
     "output_type": "stream",
     "text": [
      "[0, 2, 4, 6, 8, 10, 12, 14, 16, 18, 20, 22, 24, 26, 28, 30, 32, 34, 36, 38, 40, 42, 44, 46, 48, 50, 52, 54, 56, 58, 60, 62, 64, 66, 68, 70, 72, 74, 76, 78, 80, 82, 84, 86, 88, 90, 92, 94, 96, 98, 100]\n"
     ]
    }
   ],
   "source": [
    "# wap tp create a list of even numbers from 0 10 100\n",
    "evens =[]\n",
    "for i in range(0, 101):\n",
    "    if i % 2 == 0:\n",
    "        evens.append(i)\n",
    "print(evens)\n",
    "    "
   ]
  },
  {
   "cell_type": "code",
   "execution_count": 2,
   "metadata": {},
   "outputs": [
    {
     "name": "stdout",
     "output_type": "stream",
     "text": [
      "[0, 1, 2, 3, 4, 5, 6, 7, 8, 9, 10, 11, 12, 13, 14, 15, 16, 17, 18, 19, 20, 21, 22, 23, 24, 25, 26, 27, 28, 29, 30, 31, 32, 33, 34, 35, 36, 37, 38, 39, 40, 41, 42, 43, 44, 45, 46, 47, 48, 49, 50]\n"
     ]
    }
   ],
   "source": [
    "evens = []\n",
    "for i in range (0, 51):\n",
    "    if i % 1 == 0:\n",
    "        evens.append(i)\n",
    "print(evens)"
   ]
  },
  {
   "cell_type": "code",
   "execution_count": null,
   "metadata": {},
   "outputs": [],
   "source": [
    "#create a list with fibonacci series[0, 1,1,2,3,5,8,13,21,34,55,89]"
   ]
  },
  {
   "cell_type": "code",
   "execution_count": 3,
   "metadata": {},
   "outputs": [
    {
     "name": "stdout",
     "output_type": "stream",
     "text": [
      "[0, 1, 1, 2, 3, 5, 8, 13, 21, 34, 55, 89]\n"
     ]
    }
   ],
   "source": [
    "fib =[0,1]\n",
    "for i in range(10):\n",
    "    fib.append(fib[-1]+ fib[-2])\n",
    "print(fib)"
   ]
  },
  {
   "cell_type": "markdown",
   "metadata": {},
   "source": [
    "# wap to create a list of 10 elements and then\n",
    "- print the list\n",
    "- print the sum\n",
    "- print the mean\n",
    "- print the max\n",
    "- print the min"
   ]
  },
  {
   "cell_type": "code",
   "execution_count": 4,
   "metadata": {},
   "outputs": [
    {
     "name": "stdout",
     "output_type": "stream",
     "text": [
      "[1, 2, 3, 4, 5, 6, 7, 8, 9, 10]\n"
     ]
    }
   ],
   "source": [
    "x = [1,2,3,4,5,6,7,8,9,10]\n",
    "print(x)"
   ]
  },
  {
   "cell_type": "code",
   "execution_count": 5,
   "metadata": {},
   "outputs": [
    {
     "name": "stdout",
     "output_type": "stream",
     "text": [
      "55\n"
     ]
    }
   ],
   "source": [
    "print(sum(x))"
   ]
  },
  {
   "cell_type": "code",
   "execution_count": 6,
   "metadata": {},
   "outputs": [
    {
     "name": "stdout",
     "output_type": "stream",
     "text": [
      "10\n"
     ]
    }
   ],
   "source": [
    "print(len(x))"
   ]
  },
  {
   "cell_type": "code",
   "execution_count": 11,
   "metadata": {},
   "outputs": [
    {
     "name": "stdout",
     "output_type": "stream",
     "text": [
      "5.5\n"
     ]
    }
   ],
   "source": [
    "#mean\n",
    "m = sum(x)/len(x)\n",
    "print(m)"
   ]
  },
  {
   "cell_type": "code",
   "execution_count": 9,
   "metadata": {},
   "outputs": [
    {
     "name": "stdout",
     "output_type": "stream",
     "text": [
      "10\n"
     ]
    }
   ],
   "source": [
    "print(max(x))"
   ]
  },
  {
   "cell_type": "code",
   "execution_count": 10,
   "metadata": {},
   "outputs": [
    {
     "name": "stdout",
     "output_type": "stream",
     "text": [
      "1\n"
     ]
    }
   ],
   "source": [
    "print(min(x))"
   ]
  },
  {
   "cell_type": "markdown",
   "metadata": {},
   "source": [
    "## wap to add two lists element wise and store result in 3rd list[1, 2, 3]+[4, 5, 6]=[5, 7, 9]"
   ]
  },
  {
   "cell_type": "code",
   "execution_count": 15,
   "metadata": {},
   "outputs": [
    {
     "name": "stdout",
     "output_type": "stream",
     "text": [
      "[5, 7, 9]\n"
     ]
    }
   ],
   "source": [
    "y = [1,2,3]\n",
    "x =[4,5,6]\n",
    "z =[]\n",
    "for i in range(3):\n",
    "    z.append(y[i]+x[i])\n",
    "print(z)"
   ]
  },
  {
   "cell_type": "code",
   "execution_count": 16,
   "metadata": {},
   "outputs": [
    {
     "name": "stdout",
     "output_type": "stream",
     "text": [
      "[5, 7, 9]\n"
     ]
    }
   ],
   "source": [
    "z =[]\n",
    "for i,j in zip(y,x):\n",
    "    z.append(i + j)\n",
    "print(z)"
   ]
  },
  {
   "cell_type": "markdown",
   "metadata": {},
   "source": [
    "# wap to create a new list from a existing list where each element is increased by a power of 3\n",
    "[1,2,3]->[1,8,27]"
   ]
  },
  {
   "cell_type": "code",
   "execution_count": 18,
   "metadata": {},
   "outputs": [
    {
     "name": "stdout",
     "output_type": "stream",
     "text": [
      "[1, 8, 27]\n"
     ]
    }
   ],
   "source": [
    "x = [1,2,3]\n",
    "y =[]\n",
    "for i in x:\n",
    "    y.append(i**3)\n",
    "print(y)"
   ]
  },
  {
   "cell_type": "markdown",
   "metadata": {},
   "source": [
    "## wap to filter all the odd numbers from a list to create a clear list of numbers\n",
    "[1,2,3,4,5,6,7,8,9,]->[2,4,6,8]"
   ]
  },
  {
   "cell_type": "code",
   "execution_count": 20,
   "metadata": {},
   "outputs": [
    {
     "name": "stdout",
     "output_type": "stream",
     "text": [
      "[1, 2, 4, 6, 7, 8, 3, 5]\n",
      "[2, 4, 6, 8]\n"
     ]
    }
   ],
   "source": [
    "x = [1,2,4,6,7,8,3,5,]\n",
    "xeven = []\n",
    "for i in x:\n",
    "    if i % 2 == 0:\n",
    "        xeven.append(i)\n",
    "print(x)\n",
    "print(xeven)\n"
   ]
  },
  {
   "cell_type": "markdown",
   "metadata": {},
   "source": [
    "### wap to generate a list of 50 elements where each number is divisible by 5 and 7 both"
   ]
  },
  {
   "cell_type": "code",
   "execution_count": 22,
   "metadata": {},
   "outputs": [
    {
     "name": "stdout",
     "output_type": "stream",
     "text": [
      "[35, 70, 105, 140, 175, 210, 245, 280, 315, 350, 385, 420, 455, 490, 525, 560, 595, 630, 665, 700, 735, 770, 805, 840, 875, 910, 945, 980, 1015, 1050, 1085, 1120, 1155, 1190, 1225, 1260, 1295, 1330, 1365, 1400, 1435, 1470, 1505, 1540, 1575, 1610, 1645, 1680, 1715, 1750, 1785]\n"
     ]
    }
   ],
   "source": [
    "fiveoseven =[]\n",
    "num = 1\n",
    "while True:\n",
    "    if num % 5 ==0 and num % 7 == 0:\n",
    "        fiveoseven.append(num)\n",
    "    if len(fiveoseven)> 50:\n",
    "        break\n",
    "    num += 1\n",
    "print(fiveoseven)"
   ]
  },
  {
   "cell_type": "code",
   "execution_count": 39,
   "metadata": {},
   "outputs": [
    {
     "name": "stdout",
     "output_type": "stream",
     "text": [
      "[35, 105, 175, 245, 315, 385, 455, 525, 595, 665, 735, 805, 875, 945, 1015, 1085, 1155, 1225, 1295, 1365, 1435]\n"
     ]
    }
   ],
   "source": [
    "x = []\n",
    "yum = 1\n",
    "while True:\n",
    "    if yum % 5 ==0 and yum % 7 == 0:\n",
    "        x.append(yum)\n",
    "    if len(x)> 20:\n",
    "        break\n",
    "    yum += 2\n",
    "print(x)"
   ]
  },
  {
   "cell_type": "markdown",
   "metadata": {},
   "source": [
    "### wap to generate a list of acronyms from a list words\n",
    "['Python', 'Artificial', 'Machine'] -> [P,A,M]\n"
   ]
  },
  {
   "cell_type": "code",
   "execution_count": 24,
   "metadata": {},
   "outputs": [
    {
     "name": "stdout",
     "output_type": "stream",
     "text": [
      "['pp', 'al', 'ml']\n"
     ]
    }
   ],
   "source": [
    "names= ['python progam ','artificial learning', 'machine learning']\n",
    "acro =[]\n",
    "for name in names:\n",
    "    name_words = name.split()\n",
    "    fn = name_words[0]\n",
    "    ln = name_words[1]\n",
    "    acro.append(fn[0] + ln[0])\n",
    "print(acro)\n",
    "\n"
   ]
  },
  {
   "cell_type": "markdown",
   "metadata": {},
   "source": []
  }
 ],
 "metadata": {
  "kernelspec": {
   "display_name": "Python 3.9.12",
   "language": "python",
   "name": "python3"
  },
  "language_info": {
   "codemirror_mode": {
    "name": "ipython",
    "version": 3
   },
   "file_extension": ".py",
   "mimetype": "text/x-python",
   "name": "python",
   "nbconvert_exporter": "python",
   "pygments_lexer": "ipython3",
   "version": "3.9.12"
  },
  "orig_nbformat": 4,
  "vscode": {
   "interpreter": {
    "hash": "fd1cd5f0b72dbe9dddf4de0d29743e6815fe94eb35b607e2c1e6828f66551962"
   }
  }
 },
 "nbformat": 4,
 "nbformat_minor": 2
}
