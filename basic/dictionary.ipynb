{
 "cells": [
  {
   "cell_type": "code",
   "execution_count": 1,
   "metadata": {},
   "outputs": [],
   "source": [
    "emp = ['Amar', 'deep', 'finance',2300,10000,3000,31, True, False,'Acme']\n"
   ]
  },
  {
   "cell_type": "code",
   "execution_count": 2,
   "metadata": {},
   "outputs": [],
   "source": [
    "emp_dict = {\n",
    "    'fname':'Amar',\n",
    "    'lame':'deep',\n",
    "    'dept':'finance',\n",
    "    'age':31,\n",
    "    'salary':10000,\n",
    "    'bonus':30000,\n",
    "    'is_manager':True,\n",
    "    'is_executive':False,\n",
    "    'company':'Acme'}"
   ]
  },
  {
   "cell_type": "code",
   "execution_count": 3,
   "metadata": {},
   "outputs": [
    {
     "name": "stdout",
     "output_type": "stream",
     "text": [
      "{'fname': 'Amar', 'lame': 'deep', 'dept': 'finance', 'age': 31, 'salary': 10000, 'bonus': 30000, 'is_manager': True, 'is_executive': False, 'company': 'Acme'}\n"
     ]
    }
   ],
   "source": [
    "print(emp_dict)"
   ]
  },
  {
   "cell_type": "code",
   "execution_count": 4,
   "metadata": {},
   "outputs": [],
   "source": [
    "weather_data={\n",
    "    'data':'2019-01-01',\n",
    "    'temp':32,\n",
    "    'details': {\n",
    "        'humidity':80,\n",
    "        'wind': 10,\n",
    "        'pressure': 30,\n",
    "        'aqi': 120\n",
    "    },\n",
    "    'city':'Lucknow',\n",
    "    'type':'sunshine',\n",
    "    'icon': 'o'\n",
    "    \n",
    "}"
   ]
  },
  {
   "cell_type": "markdown",
   "metadata": {},
   "source": [
    "### accessing data from key"
   ]
  },
  {
   "cell_type": "code",
   "execution_count": 5,
   "metadata": {},
   "outputs": [
    {
     "data": {
      "text/plain": [
       "['data', 'temp', 'details', 'city', 'type', 'icon']"
      ]
     },
     "execution_count": 5,
     "metadata": {},
     "output_type": "execute_result"
    }
   ],
   "source": [
    "list(weather_data.keys())"
   ]
  },
  {
   "cell_type": "code",
   "execution_count": 6,
   "metadata": {},
   "outputs": [
    {
     "data": {
      "text/plain": [
       "dict_values(['2019-01-01', 32, {'humidity': 80, 'wind': 10, 'pressure': 30, 'aqi': 120}, 'Lucknow', 'sunshine', 'o'])"
      ]
     },
     "execution_count": 6,
     "metadata": {},
     "output_type": "execute_result"
    }
   ],
   "source": [
    "weather_data.values()"
   ]
  },
  {
   "cell_type": "code",
   "execution_count": 7,
   "metadata": {},
   "outputs": [
    {
     "data": {
      "text/plain": [
       "dict_keys(['fname', 'lame', 'dept', 'age', 'salary', 'bonus', 'is_manager', 'is_executive', 'company'])"
      ]
     },
     "execution_count": 7,
     "metadata": {},
     "output_type": "execute_result"
    }
   ],
   "source": [
    "emp_dict.keys()"
   ]
  },
  {
   "cell_type": "code",
   "execution_count": 8,
   "metadata": {},
   "outputs": [
    {
     "data": {
      "text/plain": [
       "32"
      ]
     },
     "execution_count": 8,
     "metadata": {},
     "output_type": "execute_result"
    }
   ],
   "source": [
    "weather_data['temp']"
   ]
  },
  {
   "cell_type": "code",
   "execution_count": 9,
   "metadata": {},
   "outputs": [
    {
     "data": {
      "text/plain": [
       "{'humidity': 80, 'wind': 10, 'pressure': 30, 'aqi': 120}"
      ]
     },
     "execution_count": 9,
     "metadata": {},
     "output_type": "execute_result"
    }
   ],
   "source": [
    "weather_data['details']"
   ]
  },
  {
   "cell_type": "markdown",
   "metadata": {},
   "source": [
    "### key error"
   ]
  },
  {
   "cell_type": "code",
   "execution_count": 10,
   "metadata": {},
   "outputs": [
    {
     "ename": "KeyError",
     "evalue": "'location'",
     "output_type": "error",
     "traceback": [
      "\u001b[1;31m---------------------------------------------------------------------------\u001b[0m",
      "\u001b[1;31mKeyError\u001b[0m                                  Traceback (most recent call last)",
      "\u001b[1;32mc:\\Users\\Manisha\\Documents\\oct\\dictionary.ipynb Cell 12\u001b[0m in \u001b[0;36m<cell line: 1>\u001b[1;34m()\u001b[0m\n\u001b[1;32m----> <a href='vscode-notebook-cell:/c%3A/Users/Manisha/Documents/oct/dictionary.ipynb#X20sZmlsZQ%3D%3D?line=0'>1</a>\u001b[0m weather_data[\u001b[39m'\u001b[39;49m\u001b[39mlocation\u001b[39;49m\u001b[39m'\u001b[39;49m]\n",
      "\u001b[1;31mKeyError\u001b[0m: 'location'"
     ]
    }
   ],
   "source": [
    "weather_data['location']"
   ]
  },
  {
   "cell_type": "code",
   "execution_count": null,
   "metadata": {},
   "outputs": [
    {
     "data": {
      "text/plain": [
       "32"
      ]
     },
     "execution_count": 16,
     "metadata": {},
     "output_type": "execute_result"
    }
   ],
   "source": [
    "weather_data.get('temp')"
   ]
  },
  {
   "cell_type": "code",
   "execution_count": null,
   "metadata": {},
   "outputs": [],
   "source": [
    "weather_data.get('location')"
   ]
  },
  {
   "cell_type": "code",
   "execution_count": null,
   "metadata": {},
   "outputs": [
    {
     "data": {
      "text/plain": [
       "'Lucknow'"
      ]
     },
     "execution_count": 18,
     "metadata": {},
     "output_type": "execute_result"
    }
   ],
   "source": [
    "weather_data.get('city','notfound')"
   ]
  },
  {
   "cell_type": "code",
   "execution_count": null,
   "metadata": {},
   "outputs": [
    {
     "data": {
      "text/plain": [
       "'notfound'"
      ]
     },
     "execution_count": 19,
     "metadata": {},
     "output_type": "execute_result"
    }
   ],
   "source": [
    "weather_data.get('location','notfound')"
   ]
  },
  {
   "cell_type": "markdown",
   "metadata": {},
   "source": [
    "### loping over a dictinary"
   ]
  },
  {
   "cell_type": "code",
   "execution_count": null,
   "metadata": {},
   "outputs": [
    {
     "name": "stdout",
     "output_type": "stream",
     "text": [
      "fname => Amar\n",
      "lame => deep\n",
      "dept => finance\n",
      "age => 31\n",
      "salary => 10000\n",
      "bonus => 30000\n",
      "is_manager => True\n",
      "is_executive => False\n",
      "company => Acme\n"
     ]
    }
   ],
   "source": [
    "### loping over a dictinary\n",
    "for k in emp_dict:\n",
    "    print(k,'=>', emp_dict[k])"
   ]
  },
  {
   "cell_type": "code",
   "execution_count": null,
   "metadata": {},
   "outputs": [
    {
     "name": "stdout",
     "output_type": "stream",
     "text": [
      "name => manisha\n",
      "course => MBA\n",
      "subject => finance\n",
      "session => 2022\n"
     ]
    }
   ],
   "source": [
    "for k in x:\n",
    "    print(k,'=>', x[k])"
   ]
  },
  {
   "cell_type": "code",
   "execution_count": 11,
   "metadata": {},
   "outputs": [
    {
     "name": "stdout",
     "output_type": "stream",
     "text": [
      "fname => Amar\n",
      "lame => deep\n",
      "dept => finance\n",
      "age => 31\n",
      "salary => 10000\n",
      "bonus => 30000\n",
      "is_manager => True\n",
      "is_executive => False\n",
      "company => Acme\n"
     ]
    }
   ],
   "source": [
    "# looping over a dictionary using item()\n",
    "for k,v in emp_dict.items():\n",
    "    print(k, '=>',v)\n"
   ]
  },
  {
   "cell_type": "code",
   "execution_count": null,
   "metadata": {},
   "outputs": [
    {
     "data": {
      "text/plain": [
       "dict_items([('fname', 'Amar'), ('lame', 'deep'), ('dept', 'finance'), ('age', 31), ('salary', 10000), ('bonus', 30000), ('is_manager', True), ('is_executive', False), ('company', 'Acme')])"
      ]
     },
     "execution_count": 23,
     "metadata": {},
     "output_type": "execute_result"
    }
   ],
   "source": [
    "emp_dict.items()"
   ]
  },
  {
   "cell_type": "code",
   "execution_count": null,
   "metadata": {},
   "outputs": [],
   "source": [
    "# updating an entry in dictionary\n",
    "weather_data['temp'] = 35"
   ]
  },
  {
   "cell_type": "code",
   "execution_count": null,
   "metadata": {},
   "outputs": [
    {
     "data": {
      "text/plain": [
       "{'data': '2019-01-01',\n",
       " 'temp': 35,\n",
       " 'details': {'humidity': 80, 'wind': 10, 'pressure': 30, 'aqi': 120},\n",
       " 'city': 'Lucknow',\n",
       " 'type': 'sunshine',\n",
       " 'icon': 'o'}"
      ]
     },
     "execution_count": 25,
     "metadata": {},
     "output_type": "execute_result"
    }
   ],
   "source": [
    "weather_data"
   ]
  },
  {
   "cell_type": "code",
   "execution_count": null,
   "metadata": {},
   "outputs": [],
   "source": [
    "reports= {\n",
    "    '001': {\n",
    "        'name' : 'Amar',\n",
    "        'subjects': {'English':80, 'Marths':80,'Science':95}\n",
    "        \n",
    "        \n",
    "     },\n",
    "'002':{\n",
    "    'name':'Vijay',\n",
    "    'subjects':{'English':70, 'Maths':60,'Science':85}\n",
    "    \n",
    "},\n",
    "'003':{\n",
    "    'name':'Raj',\n",
    "    'subjects':{'English':60,'Maths':50,'Science':45}\n",
    "\n",
    "},\n",
    "}"
   ]
  },
  {
   "cell_type": "code",
   "execution_count": null,
   "metadata": {},
   "outputs": [
    {
     "name": "stdout",
     "output_type": "stream",
     "text": [
      "001\n",
      "name\n",
      "subjects\n",
      "002\n",
      "name\n",
      "subjects\n",
      "003\n",
      "name\n",
      "subjects\n"
     ]
    }
   ],
   "source": [
    "for roll, data in reports.items():\n",
    "    print(roll)\n",
    "    for key,val in data.items():\n",
    "        print(key)"
   ]
  },
  {
   "cell_type": "code",
   "execution_count": null,
   "metadata": {},
   "outputs": [
    {
     "name": "stdout",
     "output_type": "stream",
     "text": [
      "001\n",
      "name\n",
      "Amar\n",
      "------------------------------\n",
      "subjects\n",
      "English 80\n",
      "Marths 80\n",
      "Science 95\n",
      "------------------------------\n",
      "002\n",
      "name\n",
      "Vijay\n",
      "------------------------------\n",
      "subjects\n",
      "English 70\n",
      "Maths 60\n",
      "Science 85\n",
      "------------------------------\n",
      "003\n",
      "name\n",
      "Raj\n",
      "------------------------------\n",
      "subjects\n",
      "English 60\n",
      "Maths 50\n",
      "Science 45\n",
      "------------------------------\n"
     ]
    }
   ],
   "source": [
    "for roll, data in reports.items():\n",
    "    print(roll)\n",
    "    for key, val in data.items():\n",
    "        print(key)\n",
    "        if isinstance(val,dict):\n",
    "            for sub, marks in val.items():\n",
    "                print(sub,marks)\n",
    "        else:\n",
    "            print(val)\n",
    "        print('---'*10)"
   ]
  },
  {
   "cell_type": "code",
   "execution_count": null,
   "metadata": {},
   "outputs": [
    {
     "name": "stdout",
     "output_type": "stream",
     "text": [
      "Roll No. 001\n",
      "name Amar\n",
      "------------------------------\n",
      "subjects\n",
      "English 80\n",
      "Marths 80\n",
      "Science 95\n",
      "Total :255/300\n",
      "------------------------------\n",
      "Roll No. 002\n",
      "name Vijay\n",
      "------------------------------\n",
      "subjects\n",
      "English 70\n",
      "Maths 60\n",
      "Science 85\n",
      "Total :215/300\n",
      "------------------------------\n",
      "Roll No. 003\n",
      "name Raj\n",
      "------------------------------\n",
      "subjects\n",
      "English 60\n",
      "Maths 50\n",
      "Science 45\n",
      "Total :155/300\n",
      "------------------------------\n"
     ]
    }
   ],
   "source": [
    "for roll, data in reports.items():\n",
    "    print(\"Roll No.\",roll)\n",
    "    for key, val in data.items():\n",
    "        if isinstance(val, dict):\n",
    "            print(key)\n",
    "            total=0\n",
    "            for sub, marks in val.items():\n",
    "                print(sub,marks)\n",
    "                total +=marks\n",
    "            print(f'Total :{total}/300')\n",
    "        else:\n",
    "            print(key, val)\n",
    "        print('---'*10)"
   ]
  },
  {
   "cell_type": "code",
   "execution_count": null,
   "metadata": {},
   "outputs": [
    {
     "name": "stdout",
     "output_type": "stream",
     "text": [
      "Roll NO. 001\n",
      "name Amar\n",
      "------------------------------\n",
      "subjects\n",
      "English 80\n",
      "Marths 80\n",
      "Science 95\n",
      "Total : 255/300\n",
      "Average:85.000000\n",
      "------------------------------\n",
      "Roll NO. 002\n",
      "name Vijay\n",
      "------------------------------\n",
      "subjects\n",
      "English 70\n",
      "Maths 60\n",
      "Science 85\n",
      "Total : 215/300\n",
      "Average:71.666667\n",
      "------------------------------\n",
      "Roll NO. 003\n",
      "name Raj\n",
      "------------------------------\n",
      "subjects\n",
      "English 60\n",
      "Maths 50\n",
      "Science 45\n",
      "Total : 155/300\n",
      "Average:51.666667\n",
      "------------------------------\n"
     ]
    }
   ],
   "source": [
    "for roll, data in reports.items():\n",
    "    print(\"Roll NO.\",roll)\n",
    "    for key, val in data.items():\n",
    "        if isinstance(val, dict):\n",
    "            print(key)\n",
    "            total=0\n",
    "            for sub, marks in val.items():\n",
    "                print(sub,marks)\n",
    "                total += marks\n",
    "            print(f'Total : {total}/300')\n",
    "            print(f'Average:{total/3:2f}')\n",
    "        else:\n",
    "            print(key,val)\n",
    "        print('---'*10)\n",
    "        "
   ]
  },
  {
   "cell_type": "markdown",
   "metadata": {},
   "source": [
    "## File handling\n",
    "- open a file reading a file writing a file appending a file"
   ]
  },
  {
   "cell_type": "code",
   "execution_count": null,
   "metadata": {},
   "outputs": [
    {
     "name": "stdout",
     "output_type": "stream",
     "text": [
      "p=float(input(\"enter principal amount\"))\n",
      "r=float(input(\"enter the rate of interest\"))\n",
      "t=int(input(\"enter the time\"))\n",
      "si=float(p*r*t/100)\n",
      "print(si)\n"
     ]
    }
   ],
   "source": [
    "f = open('si.py')\n",
    "print(f.read())"
   ]
  },
  {
   "cell_type": "code",
   "execution_count": 12,
   "metadata": {},
   "outputs": [
    {
     "ename": "FileNotFoundError",
     "evalue": "[Errno 2] No such file or directory: 'C:\\\\Users\\\\prem3\\\\OneDrive\\\\Desktop\\\\wasi\\\\.vscode\\\\_2darray1.c'",
     "output_type": "error",
     "traceback": [
      "\u001b[1;31m---------------------------------------------------------------------------\u001b[0m",
      "\u001b[1;31mFileNotFoundError\u001b[0m                         Traceback (most recent call last)",
      "\u001b[1;32mc:\\Users\\Manisha\\Documents\\oct\\dictionary.ipynb Cell 31\u001b[0m in \u001b[0;36m<cell line: 1>\u001b[1;34m()\u001b[0m\n\u001b[1;32m----> <a href='vscode-notebook-cell:/c%3A/Users/Manisha/Documents/oct/dictionary.ipynb#X50sZmlsZQ%3D%3D?line=0'>1</a>\u001b[0m f \u001b[39m=\u001b[39m \u001b[39mopen\u001b[39;49m (\u001b[39mr\u001b[39;49m\u001b[39m'\u001b[39;49m\u001b[39mC:\u001b[39;49m\u001b[39m\\\u001b[39;49m\u001b[39mUsers\u001b[39;49m\u001b[39m\\\u001b[39;49m\u001b[39mprem3\u001b[39;49m\u001b[39m\\\u001b[39;49m\u001b[39mOneDrive\u001b[39;49m\u001b[39m\\\u001b[39;49m\u001b[39mDesktop\u001b[39;49m\u001b[39m\\\u001b[39;49m\u001b[39mwasi\u001b[39;49m\u001b[39m\\\u001b[39;49m\u001b[39m.vscode\u001b[39;49m\u001b[39m\\\u001b[39;49m\u001b[39m_2darray1.c\u001b[39;49m\u001b[39m'\u001b[39;49m)\n\u001b[0;32m      <a href='vscode-notebook-cell:/c%3A/Users/Manisha/Documents/oct/dictionary.ipynb#X50sZmlsZQ%3D%3D?line=1'>2</a>\u001b[0m content \u001b[39m=\u001b[39m f\u001b[39m.\u001b[39mread()\n\u001b[0;32m      <a href='vscode-notebook-cell:/c%3A/Users/Manisha/Documents/oct/dictionary.ipynb#X50sZmlsZQ%3D%3D?line=2'>3</a>\u001b[0m \u001b[39mprint\u001b[39m(\u001b[39mf\u001b[39m\u001b[39m'\u001b[39m\u001b[39m{\u001b[39;00m\u001b[39mlen\u001b[39m(content)\u001b[39m}\u001b[39;00m\u001b[39mcharacters\u001b[39m\u001b[39m'\u001b[39m)\n",
      "\u001b[1;31mFileNotFoundError\u001b[0m: [Errno 2] No such file or directory: 'C:\\\\Users\\\\prem3\\\\OneDrive\\\\Desktop\\\\wasi\\\\.vscode\\\\_2darray1.c'"
     ]
    }
   ],
   "source": [
    "f = open (r'C:\\Users\\prem3\\OneDrive\\Desktop\\wasi\\.vscode\\_2darray1.c')\n",
    "content = f.read()\n",
    "print(f'{len(content)}characters')"
   ]
  },
  {
   "cell_type": "code",
   "execution_count": null,
   "metadata": {},
   "outputs": [],
   "source": [
    "data = 'hi everyone, this is a sample file'\n",
    "with open ('mydata.text','w') as file:\n",
    "    file.write(data)"
   ]
  },
  {
   "cell_type": "markdown",
   "metadata": {},
   "source": [
    "#### file = open ('mydata.test', 'w')\n",
    "#### file.write(data)\n",
    "#### file.close"
   ]
  },
  {
   "cell_type": "code",
   "execution_count": null,
   "metadata": {},
   "outputs": [],
   "source": [
    "data = '\\nthis is the new data the is going to written'\n",
    "with open ('mydata.text','a') as file:\n",
    "    file.write(data)"
   ]
  },
  {
   "cell_type": "code",
   "execution_count": 13,
   "metadata": {},
   "outputs": [
    {
     "name": "stdout",
     "output_type": "stream",
     "text": [
      "Filebio.textsaved\n"
     ]
    }
   ],
   "source": [
    "file = 'bio.text'\n",
    "content = ''\n",
    "while True:\n",
    "    line = input ('Enter a line (or q to quit):')\n",
    "    if line=='q':\n",
    "        break\n",
    "    content +=line + '\\n'\n",
    "    \n",
    "with open(file, 'w') as f:\n",
    "    f.write(content)\n",
    "    print(f'File{file}saved')    "
   ]
  },
  {
   "cell_type": "code",
   "execution_count": null,
   "metadata": {},
   "outputs": [],
   "source": []
  }
 ],
 "metadata": {
  "kernelspec": {
   "display_name": "Python 3.9.12",
   "language": "python",
   "name": "python3"
  },
  "language_info": {
   "codemirror_mode": {
    "name": "ipython",
    "version": 3
   },
   "file_extension": ".py",
   "mimetype": "text/x-python",
   "name": "python",
   "nbconvert_exporter": "python",
   "pygments_lexer": "ipython3",
   "version": "3.9.12"
  },
  "orig_nbformat": 4,
  "vscode": {
   "interpreter": {
    "hash": "fd1cd5f0b72dbe9dddf4de0d29743e6815fe94eb35b607e2c1e6828f66551962"
   }
  }
 },
 "nbformat": 4,
 "nbformat_minor": 2
}
