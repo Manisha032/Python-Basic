{
 "cells": [
  {
   "cell_type": "markdown",
   "metadata": {},
   "source": [
    "DRY"
   ]
  },
  {
   "cell_type": "markdown",
   "metadata": {},
   "source": [
    "D- DON'T , R- REPEAT, Y- YOURSELF"
   ]
  },
  {
   "cell_type": "code",
   "execution_count": 1,
   "metadata": {},
   "outputs": [],
   "source": [
    "# define a function\n",
    "def hello():\n",
    "    print('Hello World')"
   ]
  },
  {
   "cell_type": "code",
   "execution_count": 2,
   "metadata": {},
   "outputs": [
    {
     "name": "stdout",
     "output_type": "stream",
     "text": [
      "Hello World\n"
     ]
    }
   ],
   "source": [
    "# calling / using the function\n",
    "hello()"
   ]
  },
  {
   "cell_type": "code",
   "execution_count": 17,
   "metadata": {},
   "outputs": [
    {
     "ename": "TypeError",
     "evalue": "'str' object is not callable",
     "output_type": "error",
     "traceback": [
      "\u001b[1;31m---------------------------------------------------------------------------\u001b[0m",
      "\u001b[1;31mTypeError\u001b[0m                                 Traceback (most recent call last)",
      "\u001b[1;32mc:\\Users\\Manisha\\Documents\\Python Basic\\basic\\concepts.ipynb Cell 5\u001b[0m in \u001b[0;36m<cell line: 1>\u001b[1;34m()\u001b[0m\n\u001b[1;32m----> <a href='vscode-notebook-cell:/c%3A/Users/Manisha/Documents/Python%20Basic/basic/concepts.ipynb#W4sZmlsZQ%3D%3D?line=0'>1</a>\u001b[0m hello()\n\u001b[0;32m      <a href='vscode-notebook-cell:/c%3A/Users/Manisha/Documents/Python%20Basic/basic/concepts.ipynb#W4sZmlsZQ%3D%3D?line=1'>2</a>\u001b[0m hello()\n\u001b[0;32m      <a href='vscode-notebook-cell:/c%3A/Users/Manisha/Documents/Python%20Basic/basic/concepts.ipynb#W4sZmlsZQ%3D%3D?line=2'>3</a>\u001b[0m hello()\n",
      "\u001b[1;32mc:\\Users\\Manisha\\Documents\\Python Basic\\basic\\concepts.ipynb Cell 5\u001b[0m in \u001b[0;36mhello\u001b[1;34m()\u001b[0m\n\u001b[0;32m      <a href='vscode-notebook-cell:/c%3A/Users/Manisha/Documents/Python%20Basic/basic/concepts.ipynb#W4sZmlsZQ%3D%3D?line=1'>2</a>\u001b[0m \u001b[39mdef\u001b[39;00m \u001b[39mhello\u001b[39m():\n\u001b[1;32m----> <a href='vscode-notebook-cell:/c%3A/Users/Manisha/Documents/Python%20Basic/basic/concepts.ipynb#W4sZmlsZQ%3D%3D?line=2'>3</a>\u001b[0m     \u001b[39mprint\u001b[39;49m(\u001b[39m'\u001b[39;49m\u001b[39mHello World\u001b[39;49m\u001b[39m'\u001b[39;49m)\n",
      "\u001b[1;31mTypeError\u001b[0m: 'str' object is not callable"
     ]
    }
   ],
   "source": [
    "hello()\n",
    "hello()\n",
    "hello()"
   ]
  },
  {
   "cell_type": "code",
   "execution_count": null,
   "metadata": {},
   "outputs": [],
   "source": [
    "def  si():\n",
    "    p=int(input(\"enter principal amount\"))\n",
    "    r=float(input(\"enter the rate of interest\"))\n",
    "    t=int(input(\"enter the time\"))\n",
    "    si=(p*r*t/100)\n",
    "    print('simple interest',si)"
   ]
  },
  {
   "cell_type": "code",
   "execution_count": null,
   "metadata": {},
   "outputs": [],
   "source": [
    "si()"
   ]
  },
  {
   "cell_type": "code",
   "execution_count": null,
   "metadata": {},
   "outputs": [],
   "source": [
    "if num >1:\n",
    "    for i in range (2, num):\n",
    "        if num % i ==0:\n",
    "            print(f'{num}%{1}=={num%i}')\n",
    "            print(num,'is not a prime number')\n",
    "            break\n",
    "    else:\n",
    "        print(num,'is a prime number')\n",
    "            "
   ]
  },
  {
   "cell_type": "code",
   "execution_count": null,
   "metadata": {},
   "outputs": [],
   "source": [
    "def is_prime():\n",
    "    if num >1:\n",
    "        for i in range (2, num):\n",
    "            if num % i ==0:\n",
    "                print(f'{num}% {1}=={num%i}')\n",
    "                print(num,'is not a prime number')\n",
    "                break\n",
    "        else:\n",
    "            print(num,'is a prime number')\n",
    "            "
   ]
  },
  {
   "cell_type": "code",
   "execution_count": null,
   "metadata": {},
   "outputs": [],
   "source": [
    "is_prime()"
   ]
  },
  {
   "cell_type": "code",
   "execution_count": null,
   "metadata": {},
   "outputs": [],
   "source": []
  }
 ],
 "metadata": {
  "kernelspec": {
   "display_name": "Python 3.9.12",
   "language": "python",
   "name": "python3"
  },
  "language_info": {
   "codemirror_mode": {
    "name": "ipython",
    "version": 3
   },
   "file_extension": ".py",
   "mimetype": "text/x-python",
   "name": "python",
   "nbconvert_exporter": "python",
   "pygments_lexer": "ipython3",
   "version": "3.9.12"
  },
  "orig_nbformat": 4,
  "vscode": {
   "interpreter": {
    "hash": "fd1cd5f0b72dbe9dddf4de0d29743e6815fe94eb35b607e2c1e6828f66551962"
   }
  }
 },
 "nbformat": 4,
 "nbformat_minor": 2
}
