{
 "cells": [
  {
   "cell_type": "code",
   "execution_count": 2,
   "metadata": {},
   "outputs": [
    {
     "name": "stdout",
     "output_type": "stream",
     "text": [
      "how are you\n"
     ]
    }
   ],
   "source": [
    "# 1. create a string and print it\n",
    "data = ('how are you')\n",
    "print(data)"
   ]
  },
  {
   "cell_type": "code",
   "execution_count": 3,
   "metadata": {},
   "outputs": [
    {
     "name": "stdout",
     "output_type": "stream",
     "text": [
      "11\n"
     ]
    }
   ],
   "source": [
    "# 2. Take a string input and print it's length\n",
    "print(len(data))\n",
    "\n"
   ]
  },
  {
   "cell_type": "code",
   "execution_count": 11,
   "metadata": {},
   "outputs": [
    {
     "name": "stdout",
     "output_type": "stream",
     "text": [
      "great\n"
     ]
    }
   ],
   "source": [
    "# 3. Print the last word of the string python is great using slices\n",
    "data = ('python is great')\n",
    "slice1 = data[10:]\n",
    "print(slice1)"
   ]
  },
  {
   "cell_type": "code",
   "execution_count": 12,
   "metadata": {},
   "outputs": [
    {
     "name": "stdout",
     "output_type": "stream",
     "text": [
      "knowledge\n",
      "work\n"
     ]
    }
   ],
   "source": [
    "# 4. Print the each word in different line of string python is everywhere\n",
    "data = (\"knowledge work\")\n",
    "print(*data.split(),sep=\"\\n\")"
   ]
  },
  {
   "cell_type": "code",
   "execution_count": 15,
   "metadata": {},
   "outputs": [
    {
     "name": "stdout",
     "output_type": "stream",
     "text": [
      "dlrow olleh\n"
     ]
    }
   ],
   "source": [
    "# 5. print the string hello world in reverse\n",
    "data = ('hello world')\n",
    "print(data[::-1])"
   ]
  },
  {
   "cell_type": "code",
   "execution_count": 16,
   "metadata": {},
   "outputs": [
    {
     "data": {
      "text/plain": [
       "'HOW ARE YOU?'"
      ]
     },
     "execution_count": 16,
     "metadata": {},
     "output_type": "execute_result"
    }
   ],
   "source": [
    "# 6. Convert the string how are you ? in uppercase\n",
    "data = 'how are you?'\n",
    "data.upper()\n"
   ]
  },
  {
   "cell_type": "code",
   "execution_count": 18,
   "metadata": {},
   "outputs": [
    {
     "data": {
      "text/plain": [
       "'how are you?'"
      ]
     },
     "execution_count": 18,
     "metadata": {},
     "output_type": "execute_result"
    }
   ],
   "source": [
    "# 7. lowercase\n",
    "data.lower()"
   ]
  },
  {
   "cell_type": "code",
   "execution_count": 19,
   "metadata": {},
   "outputs": [
    {
     "name": "stdout",
     "output_type": "stream",
     "text": [
      "python is easy to learn\n"
     ]
    }
   ],
   "source": [
    "# 8. Join the following list by spaces () and print the result\n",
    "words = ['python', 'is','easy', 'to','learn',]\n",
    "print(' '.join(words))"
   ]
  },
  {
   "cell_type": "code",
   "execution_count": 28,
   "metadata": {},
   "outputs": [],
   "source": [
    "word = \"python is easy to learn\""
   ]
  },
  {
   "cell_type": "code",
   "execution_count": 30,
   "metadata": {},
   "outputs": [
    {
     "name": "stdout",
     "output_type": "stream",
     "text": [
      "['python', 'is', 'easy', 'to', 'learn']\n"
     ]
    }
   ],
   "source": [
    "data = word.split()\n",
    "print(data,)"
   ]
  },
  {
   "cell_type": "code",
   "execution_count": 48,
   "metadata": {},
   "outputs": [],
   "source": [
    "line = \"hello, how are you, I am new here, please help me\" "
   ]
  },
  {
   "cell_type": "code",
   "execution_count": null,
   "metadata": {},
   "outputs": [],
   "source": []
  },
  {
   "cell_type": "code",
   "execution_count": 21,
   "metadata": {},
   "outputs": [
    {
     "name": "stdout",
     "output_type": "stream",
     "text": [
      "the variable is 15\n"
     ]
    }
   ],
   "source": [
    "# 11.Print a variable with some text using a single print function, output should look like following \n",
    "# the variable is 15\n",
    "x = '15'\n",
    "print(f'the variable is {x}')"
   ]
  },
  {
   "cell_type": "code",
   "execution_count": 50,
   "metadata": {},
   "outputs": [
    {
     "name": "stdout",
     "output_type": "stream",
     "text": [
      "the variable is 15\n"
     ]
    }
   ],
   "source": [
    "number = [\"15\"]\n",
    "for val in number:\n",
    "    print(f'the variable is {x}')\n",
    "    "
   ]
  },
  {
   "cell_type": "code",
   "execution_count": 22,
   "metadata": {},
   "outputs": [
    {
     "name": "stdout",
     "output_type": "stream",
     "text": [
      "False\n"
     ]
    }
   ],
   "source": [
    "# to check whether the varible is true or false\n",
    "x = 'the variable is 15 '\n",
    "print(x.isalnum())"
   ]
  },
  {
   "cell_type": "markdown",
   "metadata": {},
   "source": [
    "concatenate"
   ]
  },
  {
   "cell_type": "code",
   "execution_count": 23,
   "metadata": {},
   "outputs": [
    {
     "name": "stdout",
     "output_type": "stream",
     "text": [
      "python is great\n"
     ]
    }
   ],
   "source": [
    "# 12. concatenate the following strings and print the resolution()\n",
    "# s1 = 'python'\n",
    "# s2 = 'is'\n",
    "# s3 = 'great'\n",
    "S1= 'python'\n",
    "S2= 'is'\n",
    "S3= 'great'\n",
    "msg= S1 +' '+ S2 + ' '+ S3\n",
    "print(msg)\n"
   ]
  },
  {
   "cell_type": "code",
   "execution_count": 24,
   "metadata": {},
   "outputs": [
    {
     "name": "stdout",
     "output_type": "stream",
     "text": [
      " #  #  #  #  #  #  #  #  #  #  #  #  #  #  #  #  #  #  #  # \n"
     ]
    }
   ],
   "source": [
    "# 13. Print # 20 times without using a loop \n",
    "print(' # '* 20)"
   ]
  },
  {
   "cell_type": "code",
   "execution_count": 26,
   "metadata": {},
   "outputs": [
    {
     "name": "stdout",
     "output_type": "stream",
     "text": [
      "1.\n",
      "2.\n",
      "3.\n",
      "4.\n",
      "5.\n",
      "6.\n",
      "7.\n",
      "8.\n",
      "9.\n",
      "10.\n"
     ]
    }
   ],
   "source": [
    "# 14. Print numbers from 1 to 9 each on a separate line, followed by a dot\n",
    "data = ['1','2','3','4','5','6','7','8','9','10']\n",
    "for i in range(len(data)):\n",
    "    print(data[i]+'.')"
   ]
  },
  {
   "cell_type": "code",
   "execution_count": 27,
   "metadata": {},
   "outputs": [
    {
     "name": "stdout",
     "output_type": "stream",
     "text": [
      "1.\n",
      "2.\n",
      "3.\n",
      "4.\n",
      "5.\n",
      "6.\n",
      "7.\n",
      "8.\n",
      "9.\n"
     ]
    }
   ],
   "source": [
    "for i in range(1,10):\n",
    "    print(i,'.', sep='')"
   ]
  },
  {
   "cell_type": "code",
   "execution_count": 34,
   "metadata": {},
   "outputs": [
    {
     "name": "stdout",
     "output_type": "stream",
     "text": [
      "how\n",
      "are\n",
      "you\n"
     ]
    }
   ],
   "source": [
    "# 15. Ask the user to input a sentence print each word on a different line\n",
    "sent = input('enter the sentence')\n",
    "data = sent.split()\n",
    "for i in range(len(data)):\n",
    "    print(data[i])\n"
   ]
  },
  {
   "cell_type": "code",
   "execution_count": 37,
   "metadata": {},
   "outputs": [
    {
     "data": {
      "text/plain": [
       "True"
      ]
     },
     "execution_count": 37,
     "metadata": {},
     "output_type": "execute_result"
    }
   ],
   "source": [
    "# 16. Ask the user to input a string and print how many times a appears in the string \n",
    "data = str('how are you?')\n",
    "data.endswith('?')"
   ]
  },
  {
   "cell_type": "code",
   "execution_count": 38,
   "metadata": {},
   "outputs": [
    {
     "data": {
      "text/plain": [
       "9"
      ]
     },
     "execution_count": 38,
     "metadata": {},
     "output_type": "execute_result"
    }
   ],
   "source": [
    "# 17. Ask the user to input a string and print how many times e appears in the string\n",
    "data = 'work harder'\n",
    "data.find('e')"
   ]
  },
  {
   "cell_type": "code",
   "execution_count": 39,
   "metadata": {},
   "outputs": [
    {
     "name": "stdout",
     "output_type": "stream",
     "text": [
      "True\n"
     ]
    }
   ],
   "source": [
    "# 18. Check if the user input is a number\n",
    "msg = '123'\n",
    "print(msg.isalnum())"
   ]
  },
  {
   "cell_type": "code",
   "execution_count": 44,
   "metadata": {},
   "outputs": [
    {
     "data": {
      "text/plain": [
       "True"
      ]
     },
     "execution_count": 44,
     "metadata": {},
     "output_type": "execute_result"
    }
   ],
   "source": [
    "data= '123'\n",
    "data.isnumeric()"
   ]
  },
  {
   "cell_type": "code",
   "execution_count": 48,
   "metadata": {},
   "outputs": [
    {
     "name": "stdout",
     "output_type": "stream",
     "text": [
      "this is a good string\n"
     ]
    }
   ],
   "source": [
    "# 19. remove the extra spaces in the beginning and the end of the following string : text =' this is not a good idea\n",
    "test1= 'this'\n",
    "test2= 'is'\n",
    "test3= 'a'\n",
    "test4= 'good'\n",
    "test5= 'string'\n",
    "msg = 'this' + ' '+'is'+' '+ 'a'+ ' '+ 'good'+' ' + 'string'\n",
    "print(msg)"
   ]
  },
  {
   "cell_type": "code",
   "execution_count": 40,
   "metadata": {},
   "outputs": [],
   "source": [
    "text= '  this is not a good '"
   ]
  },
  {
   "cell_type": "code",
   "execution_count": 41,
   "metadata": {},
   "outputs": [
    {
     "name": "stdout",
     "output_type": "stream",
     "text": [
      "this is not a good\n"
     ]
    }
   ],
   "source": [
    "print(text.strip())"
   ]
  },
  {
   "cell_type": "code",
   "execution_count": 42,
   "metadata": {},
   "outputs": [
    {
     "name": "stdout",
     "output_type": "stream",
     "text": [
      "  this is not a good\n"
     ]
    }
   ],
   "source": [
    "print(text.rstrip())"
   ]
  },
  {
   "cell_type": "code",
   "execution_count": 13,
   "metadata": {},
   "outputs": [
    {
     "name": "stdout",
     "output_type": "stream",
     "text": [
      "this is not a good \n"
     ]
    }
   ],
   "source": [
    "print(text.lstrip())"
   ]
  },
  {
   "cell_type": "markdown",
   "metadata": {},
   "source": [
    "ask user to input string, print'found' if any of the character is upper case"
   ]
  },
  {
   "cell_type": "code",
   "execution_count": 49,
   "metadata": {},
   "outputs": [
    {
     "name": "stdout",
     "output_type": "stream",
     "text": [
      "found\n"
     ]
    }
   ],
   "source": [
    "# 20.ask user to input string, print'found' if any of the character is upper case\n",
    "sent = 'Python is useful for student'\n",
    "for i in range(len(sent)):\n",
    "    if sent[i].isupper():\n",
    "        print('found')\n",
    "        break\n",
    "    else:\n",
    "        print('not found')"
   ]
  },
  {
   "cell_type": "code",
   "execution_count": null,
   "metadata": {},
   "outputs": [],
   "source": []
  },
  {
   "cell_type": "code",
   "execution_count": 50,
   "metadata": {},
   "outputs": [
    {
     "name": "stdout",
     "output_type": "stream",
     "text": [
      "['Joe', ' David', ' Mark', ' Tom', ' Chris', ' Robert']\n"
     ]
    }
   ],
   "source": [
    "# 21. Extract names from the following string and store them in a list\n",
    "s = 'Joe, David, Mark, Tom, Chris, Robert'\n",
    "data =s.split(',')\n",
    "print(data)"
   ]
  },
  {
   "cell_type": "code",
   "execution_count": 51,
   "metadata": {},
   "outputs": [
    {
     "name": "stdout",
     "output_type": "stream",
     "text": [
      "thisaye isaye someaye textaye \n"
     ]
    }
   ],
   "source": [
    "# 22. In the following string add aye in the end of every word and print the results.\n",
    "# test = 'this is some text\n",
    "text = 'this is some text '\n",
    "data = text.split(' ')\n",
    "data1 = 'aye '.join(data)\n",
    "print(data1)"
   ]
  },
  {
   "cell_type": "code",
   "execution_count": 52,
   "metadata": {},
   "outputs": [
    {
     "name": "stdout",
     "output_type": "stream",
     "text": [
      "true\n"
     ]
    }
   ],
   "source": [
    "# 23. Ask the userto enter a string and check if the string contain fyi\n",
    "b= input('enter the string:')\n",
    "x= b.find('fyi')\n",
    "b1= b[x:x+3]\n",
    "if b1 =='fyi':\n",
    "    print('true')\n",
    "else:\n",
    "    print('false')"
   ]
  },
  {
   "cell_type": "code",
   "execution_count": 56,
   "metadata": {},
   "outputs": [
    {
     "name": "stdout",
     "output_type": "stream",
     "text": [
      "p\n",
      "py\n",
      "pyt\n",
      "pyth\n",
      "pytho\n",
      "python\n"
     ]
    }
   ],
   "source": [
    "# 24. Remove all the special characters and numbers from the following string : text= '%p34@y!*-*!t68h#on404'\n",
    "text =  '%p34@y!*-*!t68h#on404'\n",
    "s1 = ['!','@','#','$','%','&','*','-','_']\n",
    "t=''\n",
    "\n",
    "for i in range (len(text)):\n",
    "    if text[i].isnumeric() or text[i] in s1:\n",
    "        continue\n",
    "    else:\n",
    "        t=t+text[i]\n",
    "    print(t)\n",
    "        "
   ]
  },
  {
   "cell_type": "code",
   "execution_count": 59,
   "metadata": {},
   "outputs": [
    {
     "name": "stdout",
     "output_type": "stream",
     "text": [
      "the avg of the word length of the following paragraph is 4\n"
     ]
    }
   ],
   "source": [
    "# 25. calculate the average word length of the following paragraph.\n",
    "# this is the paragraph which is written just for the purpose of providing content to let the average word length be calculate\n",
    "nums =[]\n",
    "avg, sum =0,0\n",
    "text = 'this is the paragraph which is written just for the purpose of providing content to let average word length be calculated'\n",
    "data = text.split()\n",
    "for i in range(len(data)):\n",
    "    nums.append(len(data[i]))\n",
    "for i in range (len(nums)):\n",
    "    sum += nums[i]\n",
    "    avg = sum//len(nums)\n",
    "print(f'the avg of the word length of the following paragraph is {avg}')"
   ]
  },
  {
   "cell_type": "code",
   "execution_count": null,
   "metadata": {},
   "outputs": [],
   "source": []
  }
 ],
 "metadata": {
  "kernelspec": {
   "display_name": "Python 3.9.12",
   "language": "python",
   "name": "python3"
  },
  "language_info": {
   "codemirror_mode": {
    "name": "ipython",
    "version": 3
   },
   "file_extension": ".py",
   "mimetype": "text/x-python",
   "name": "python",
   "nbconvert_exporter": "python",
   "pygments_lexer": "ipython3",
   "version": "3.9.12"
  },
  "orig_nbformat": 4,
  "vscode": {
   "interpreter": {
    "hash": "fd1cd5f0b72dbe9dddf4de0d29743e6815fe94eb35b607e2c1e6828f66551962"
   }
  }
 },
 "nbformat": 4,
 "nbformat_minor": 2
}
