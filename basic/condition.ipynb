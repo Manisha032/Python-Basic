{
 "cells": [
  {
   "cell_type": "markdown",
   "metadata": {},
   "source": [
    "#### condition\n",
    " 1. if\n",
    "2.  if else\n",
    " 3. if elif else\n",
    " 4. nested if\n",
    "5.  match case (only works on python3.9 or above)\n"
   ]
  },
  {
   "cell_type": "markdown",
   "metadata": {},
   "source": [
    "syntax\n",
    "...\n",
    "if condition:\n",
    "      statement\n",
    "..."
   ]
  },
  {
   "cell_type": "code",
   "execution_count": 1,
   "metadata": {},
   "outputs": [
    {
     "name": "stdout",
     "output_type": "stream",
     "text": [
      "100 is greater than 10\n"
     ]
    }
   ],
   "source": [
    "if 100>10:\n",
    "    print('100 is greater than 10')"
   ]
  },
  {
   "cell_type": "code",
   "execution_count": 5,
   "metadata": {},
   "outputs": [],
   "source": [
    "if 5>10:\n",
    "    print('5 is greater than 10')"
   ]
  },
  {
   "cell_type": "code",
   "execution_count": 6,
   "metadata": {},
   "outputs": [],
   "source": [
    "a= 10\n",
    "b=20\n",
    "if a>b:\n",
    "    print('this is great')\n",
    "    print(f'{a} is greater than{b}')"
   ]
  },
  {
   "cell_type": "code",
   "execution_count": 10,
   "metadata": {},
   "outputs": [
    {
     "name": "stdout",
     "output_type": "stream",
     "text": [
      "this is a space\n"
     ]
    }
   ],
   "source": [
    "data = input(\"enter a data:\")\n",
    "if data.isalpha():\n",
    "    print(\"this is a string\")\n",
    "if data.isnumeric():\n",
    "    print(\"this is a number\")\n",
    "if data.isspace():\n",
    "    print(\"this is a space\")"
   ]
  },
  {
   "cell_type": "code",
   "execution_count": 15,
   "metadata": {},
   "outputs": [
    {
     "name": "stdout",
     "output_type": "stream",
     "text": [
      "it's hot\n"
     ]
    }
   ],
   "source": [
    "temp = 980\n",
    "if temp > 25:\n",
    "    print(\"it's hot\")\n",
    "else:\n",
    "    print(\"it's cool\")"
   ]
  },
  {
   "cell_type": "markdown",
   "metadata": {},
   "source": [
    "multiple condition"
   ]
  },
  {
   "cell_type": "code",
   "execution_count": 16,
   "metadata": {},
   "outputs": [
    {
     "name": "stdout",
     "output_type": "stream",
     "text": [
      "Not found in the Database\n"
     ]
    }
   ],
   "source": [
    "fruit = input(\"what fruit do you like?\")\n",
    "if fruit=='apple':\n",
    "    print('An apple a day keeps the doctor away')\n",
    "elif fruit == 'mango':\n",
    "    print('Mango is the king of fruits')\n",
    "elif fruit== 'banana':\n",
    "    print('Banana is a good source of potassium')\n",
    "elif fruit== 'orange':\n",
    "    print('Orange is a good source of vitamin C')\n",
    "else:\n",
    "    print('Not found in the Database')\n"
   ]
  },
  {
   "cell_type": "code",
   "execution_count": 12,
   "metadata": {},
   "outputs": [
    {
     "name": "stdout",
     "output_type": "stream",
     "text": [
      "Welcome sam\n"
     ]
    }
   ],
   "source": [
    "username = input (\"Enter your username:\")\n",
    "password = input (\"Enter your password:\")\n",
    "if username == 'sam':\n",
    "    if password == '123':\n",
    "        print (\"Welcome sam\")\n",
    "    else:\n",
    "        print (\"Wrong password\")\n",
    "else:\n",
    "    print (\"Wrong user\")\n"
   ]
  },
  {
   "cell_type": "code",
   "execution_count": 13,
   "metadata": {},
   "outputs": [
    {
     "name": "stdout",
     "output_type": "stream",
     "text": [
      "welcome sam\n"
     ]
    }
   ],
   "source": [
    "\n",
    "if username == 'sam' and password == '123':\n",
    "    print (\"welcome sam\")\n",
    "else:\n",
    "    print (\"wrong username or password\")\n"
   ]
  },
  {
   "cell_type": "markdown",
   "metadata": {},
   "source": [
    "### wap to calculate the employee total salary base\n",
    "- if basic salary is less than 10000 then hra is 10% of basic salary and da is 90% of basic salary\n",
    "- if basic salary is greater than 10000 then hra is 20% of basic salary and da is 80% of the salary\n",
    "- if basic sslary is greater than 20000 then hra is 25% of basic salary and da is 75% of the basic salary"
   ]
  },
  {
   "cell_type": "code",
   "execution_count": 3,
   "metadata": {},
   "outputs": [
    {
     "name": "stdout",
     "output_type": "stream",
     "text": [
      "your hra is: 40000.0\n",
      "your da is : 160000.0\n"
     ]
    }
   ],
   "source": [
    "basicsalary=float(input(\"Employee total salary\"))\n",
    "if basicsalary < 10000:\n",
    "    hra= 0.1*basicsalary \n",
    "    da= 0.9*basicsalary\n",
    "elif basicsalary >10000:\n",
    "    hra = 0.2*basicsalary\n",
    "    da = 0.8*basicsalary\n",
    "else:\n",
    "    hra = 0.25*basicsalary\n",
    "    da = 0.75*basicsalary\n",
    "print(\"your hra is:\",hra)\n",
    "print(\"your da is :\",da)\n",
    "\n",
    "    \n",
    "    \n",
    " "
   ]
  },
  {
   "cell_type": "markdown",
   "metadata": {},
   "source": [
    "#### How to install various verison of python environment\n"
   ]
  },
  {
   "cell_type": "code",
   "execution_count": null,
   "metadata": {},
   "outputs": [
    {
     "ename": "",
     "evalue": "",
     "output_type": "error",
     "traceback": [
      "\u001b[1;31mRunning cells with 'Python ('py310')' requires ipykernel package.\n",
      "\u001b[1;31mRun the following command to install 'ipykernel' into the Python environment. \n",
      "\u001b[1;31mCommand: 'conda install -n py310 ipykernel --update-deps --force-reinstall'"
     ]
    }
   ],
   "source": [
    "\n",
    "icecream = input(\"enter the icecream name-> \")\n",
    "match(icecream):\n",
    "    case \"chocolate\":\n",
    "        print(\"chocolate = 200.00\")\n",
    "    case \"vanilla\":\n",
    "        print(\"vanilla = 100.00\")\n",
    "    case _:\n",
    "        print(\"not available\")\n",
    "    "
   ]
  },
  {
   "cell_type": "code",
   "execution_count": null,
   "metadata": {},
   "outputs": [],
   "source": []
  }
 ],
 "metadata": {
  "kernelspec": {
   "display_name": "Python 3.9.12",
   "language": "python",
   "name": "python3"
  },
  "language_info": {
   "codemirror_mode": {
    "name": "ipython",
    "version": 3
   },
   "file_extension": ".py",
   "mimetype": "text/x-python",
   "name": "python",
   "nbconvert_exporter": "python",
   "pygments_lexer": "ipython3",
   "version": "3.9.12"
  },
  "orig_nbformat": 4,
  "vscode": {
   "interpreter": {
    "hash": "fd1cd5f0b72dbe9dddf4de0d29743e6815fe94eb35b607e2c1e6828f66551962"
   }
  }
 },
 "nbformat": 4,
 "nbformat_minor": 2
}
