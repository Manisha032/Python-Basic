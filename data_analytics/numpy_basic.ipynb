{
 "cells": [
  {
   "cell_type": "code",
   "execution_count": 1,
   "metadata": {},
   "outputs": [],
   "source": [
    "import numpy as np"
   ]
  },
  {
   "cell_type": "code",
   "execution_count": 2,
   "metadata": {},
   "outputs": [
    {
     "name": "stdout",
     "output_type": "stream",
     "text": [
      "[1 2 3 4]\n"
     ]
    }
   ],
   "source": [
    "x = np.array([1,2,3,4])\n",
    "print(x)"
   ]
  },
  {
   "cell_type": "code",
   "execution_count": 3,
   "metadata": {},
   "outputs": [
    {
     "name": "stdout",
     "output_type": "stream",
     "text": [
      "[[2 3]\n",
      " [5 6]]\n"
     ]
    }
   ],
   "source": [
    "x2 = np.array([[2,3],[5,6]])\n",
    "print(x2)"
   ]
  },
  {
   "cell_type": "code",
   "execution_count": 6,
   "metadata": {},
   "outputs": [
    {
     "name": "stdout",
     "output_type": "stream",
     "text": [
      "(4,)\n",
      "(2, 2)\n",
      "1\n",
      "2\n"
     ]
    }
   ],
   "source": [
    "print(x.shape)\n",
    "print(x2.shape)\n",
    "print(x.ndim)\n",
    "print(x2.ndim)"
   ]
  },
  {
   "cell_type": "code",
   "execution_count": 10,
   "metadata": {},
   "outputs": [
    {
     "name": "stdout",
     "output_type": "stream",
     "text": [
      "[-5.  -4.5 -4.  -3.5 -3.  -2.5 -2.  -1.5 -1.  -0.5  0.   0.5  1.   1.5\n",
      "  2.   2.5  3.   3.5  4.   4.5  5.   5.5]\n",
      "22\n"
     ]
    }
   ],
   "source": [
    "a = np.arange(-5,6,.5)\n",
    "print(a)\n",
    "print(a.size)"
   ]
  },
  {
   "cell_type": "code",
   "execution_count": 12,
   "metadata": {},
   "outputs": [
    {
     "name": "stdout",
     "output_type": "stream",
     "text": [
      "[ 1.          1.18367347  1.36734694  1.55102041  1.73469388  1.91836735\n",
      "  2.10204082  2.28571429  2.46938776  2.65306122  2.83673469  3.02040816\n",
      "  3.20408163  3.3877551   3.57142857  3.75510204  3.93877551  4.12244898\n",
      "  4.30612245  4.48979592  4.67346939  4.85714286  5.04081633  5.2244898\n",
      "  5.40816327  5.59183673  5.7755102   5.95918367  6.14285714  6.32653061\n",
      "  6.51020408  6.69387755  6.87755102  7.06122449  7.24489796  7.42857143\n",
      "  7.6122449   7.79591837  7.97959184  8.16326531  8.34693878  8.53061224\n",
      "  8.71428571  8.89795918  9.08163265  9.26530612  9.44897959  9.63265306\n",
      "  9.81632653 10.        ]\n",
      "50\n"
     ]
    }
   ],
   "source": [
    "b = np.linspace(1,10,50)\n",
    "print(b)\n",
    "print(b.size)"
   ]
  },
  {
   "cell_type": "code",
   "execution_count": 15,
   "metadata": {},
   "outputs": [
    {
     "name": "stdout",
     "output_type": "stream",
     "text": [
      "[[0.14414472 0.65311898 0.8397115 ]\n",
      " [0.74973395 0.63452172 0.32489231]\n",
      " [0.79147245 0.3928905  0.32227181]]\n",
      "(3, 3)\n",
      "9\n"
     ]
    }
   ],
   "source": [
    "c = np.random.random((3,3))\n",
    "print(c)\n",
    "print(c.shape)\n",
    "print(c.size)\n"
   ]
  },
  {
   "cell_type": "code",
   "execution_count": 17,
   "metadata": {},
   "outputs": [
    {
     "name": "stdout",
     "output_type": "stream",
     "text": [
      "[[ 0.39578986  0.10796047 -0.61936922]\n",
      " [-0.90950775  0.68984288  0.3911961 ]\n",
      " [-0.11112856  0.02246015  1.04184954]]\n",
      "(3, 3)\n",
      "9\n"
     ]
    }
   ],
   "source": [
    "d = np.random.randn(3,3)\n",
    "print(d)\n",
    "print(d.shape)\n",
    "print(d.size)"
   ]
  },
  {
   "cell_type": "code",
   "execution_count": 20,
   "metadata": {},
   "outputs": [
    {
     "name": "stdout",
     "output_type": "stream",
     "text": [
      "[[[94 95 94]\n",
      "  [99 91 90]\n",
      "  [95 94 90]]\n",
      "\n",
      " [[91 90 98]\n",
      "  [95 90 92]\n",
      "  [94 98 96]]\n",
      "\n",
      " [[96 93 91]\n",
      "  [95 94 99]\n",
      "  [90 99 93]]]\n",
      "(3, 3, 3)\n",
      "27\n"
     ]
    }
   ],
   "source": [
    "e = np.random.randint(90,100, (3,3,3))\n",
    "print(e)\n",
    "print(e.shape)\n",
    "print(e.size)"
   ]
  },
  {
   "cell_type": "code",
   "execution_count": 23,
   "metadata": {},
   "outputs": [
    {
     "name": "stdout",
     "output_type": "stream",
     "text": [
      "(90,)\n"
     ]
    }
   ],
   "source": [
    "f = np.linspace(1,100,90)\n",
    "print(f.shape)"
   ]
  },
  {
   "cell_type": "code",
   "execution_count": 26,
   "metadata": {},
   "outputs": [
    {
     "name": "stdout",
     "output_type": "stream",
     "text": [
      "[[  1.           2.11235955]\n",
      " [  3.2247191    4.33707865]\n",
      " [  5.4494382    6.56179775]\n",
      " [  7.6741573    8.78651685]\n",
      " [  9.8988764   11.01123596]\n",
      " [ 12.12359551  13.23595506]\n",
      " [ 14.34831461  15.46067416]\n",
      " [ 16.57303371  17.68539326]\n",
      " [ 18.79775281  19.91011236]\n",
      " [ 21.02247191  22.13483146]\n",
      " [ 23.24719101  24.35955056]\n",
      " [ 25.47191011  26.58426966]\n",
      " [ 27.69662921  28.80898876]\n",
      " [ 29.92134831  31.03370787]\n",
      " [ 32.14606742  33.25842697]\n",
      " [ 34.37078652  35.48314607]\n",
      " [ 36.59550562  37.70786517]\n",
      " [ 38.82022472  39.93258427]\n",
      " [ 41.04494382  42.15730337]\n",
      " [ 43.26966292  44.38202247]\n",
      " [ 45.49438202  46.60674157]\n",
      " [ 47.71910112  48.83146067]\n",
      " [ 49.94382022  51.05617978]\n",
      " [ 52.16853933  53.28089888]\n",
      " [ 54.39325843  55.50561798]\n",
      " [ 56.61797753  57.73033708]\n",
      " [ 58.84269663  59.95505618]\n",
      " [ 61.06741573  62.17977528]\n",
      " [ 63.29213483  64.40449438]\n",
      " [ 65.51685393  66.62921348]\n",
      " [ 67.74157303  68.85393258]\n",
      " [ 69.96629213  71.07865169]\n",
      " [ 72.19101124  73.30337079]\n",
      " [ 74.41573034  75.52808989]\n",
      " [ 76.64044944  77.75280899]\n",
      " [ 78.86516854  79.97752809]\n",
      " [ 81.08988764  82.20224719]\n",
      " [ 83.31460674  84.42696629]\n",
      " [ 85.53932584  86.65168539]\n",
      " [ 87.76404494  88.87640449]\n",
      " [ 89.98876404  91.1011236 ]\n",
      " [ 92.21348315  93.3258427 ]\n",
      " [ 94.43820225  95.5505618 ]\n",
      " [ 96.66292135  97.7752809 ]\n",
      " [ 98.88764045 100.        ]]\n"
     ]
    }
   ],
   "source": [
    "f2 = f.reshape(45,2)\n",
    "print(f2)"
   ]
  },
  {
   "cell_type": "code",
   "execution_count": 27,
   "metadata": {},
   "outputs": [
    {
     "name": "stdout",
     "output_type": "stream",
     "text": [
      "(15, 3, 2)\n",
      "[[[  1.           2.11235955]\n",
      "  [  3.2247191    4.33707865]\n",
      "  [  5.4494382    6.56179775]]\n",
      "\n",
      " [[  7.6741573    8.78651685]\n",
      "  [  9.8988764   11.01123596]\n",
      "  [ 12.12359551  13.23595506]]\n",
      "\n",
      " [[ 14.34831461  15.46067416]\n",
      "  [ 16.57303371  17.68539326]\n",
      "  [ 18.79775281  19.91011236]]\n",
      "\n",
      " [[ 21.02247191  22.13483146]\n",
      "  [ 23.24719101  24.35955056]\n",
      "  [ 25.47191011  26.58426966]]\n",
      "\n",
      " [[ 27.69662921  28.80898876]\n",
      "  [ 29.92134831  31.03370787]\n",
      "  [ 32.14606742  33.25842697]]\n",
      "\n",
      " [[ 34.37078652  35.48314607]\n",
      "  [ 36.59550562  37.70786517]\n",
      "  [ 38.82022472  39.93258427]]\n",
      "\n",
      " [[ 41.04494382  42.15730337]\n",
      "  [ 43.26966292  44.38202247]\n",
      "  [ 45.49438202  46.60674157]]\n",
      "\n",
      " [[ 47.71910112  48.83146067]\n",
      "  [ 49.94382022  51.05617978]\n",
      "  [ 52.16853933  53.28089888]]\n",
      "\n",
      " [[ 54.39325843  55.50561798]\n",
      "  [ 56.61797753  57.73033708]\n",
      "  [ 58.84269663  59.95505618]]\n",
      "\n",
      " [[ 61.06741573  62.17977528]\n",
      "  [ 63.29213483  64.40449438]\n",
      "  [ 65.51685393  66.62921348]]\n",
      "\n",
      " [[ 67.74157303  68.85393258]\n",
      "  [ 69.96629213  71.07865169]\n",
      "  [ 72.19101124  73.30337079]]\n",
      "\n",
      " [[ 74.41573034  75.52808989]\n",
      "  [ 76.64044944  77.75280899]\n",
      "  [ 78.86516854  79.97752809]]\n",
      "\n",
      " [[ 81.08988764  82.20224719]\n",
      "  [ 83.31460674  84.42696629]\n",
      "  [ 85.53932584  86.65168539]]\n",
      "\n",
      " [[ 87.76404494  88.87640449]\n",
      "  [ 89.98876404  91.1011236 ]\n",
      "  [ 92.21348315  93.3258427 ]]\n",
      "\n",
      " [[ 94.43820225  95.5505618 ]\n",
      "  [ 96.66292135  97.7752809 ]\n",
      "  [ 98.88764045 100.        ]]]\n"
     ]
    }
   ],
   "source": [
    "f3 = f.reshape(15,3,2)\n",
    "print(f3.shape)\n",
    "print(f3)"
   ]
  },
  {
   "cell_type": "code",
   "execution_count": 29,
   "metadata": {},
   "outputs": [
    {
     "name": "stdout",
     "output_type": "stream",
     "text": [
      "[[9 6 7]\n",
      " [9 1 8]\n",
      " [2 4 6]]\n",
      "\n",
      "[[8 5 3]\n",
      " [1 7 9]\n",
      " [7 1 8]]\n"
     ]
    }
   ],
   "source": [
    "x = np.random.randint(1,10,(3,3))\n",
    "y = np.random.randint(1,10,(3,3))\n",
    "print(x)\n",
    "print()\n",
    "print(y)"
   ]
  },
  {
   "cell_type": "code",
   "execution_count": 31,
   "metadata": {},
   "outputs": [
    {
     "data": {
      "text/plain": [
       "array([[17, 11, 10],\n",
       "       [10,  8, 17],\n",
       "       [ 9,  5, 14]])"
      ]
     },
     "execution_count": 31,
     "metadata": {},
     "output_type": "execute_result"
    }
   ],
   "source": [
    "x + y # element wise addition"
   ]
  },
  {
   "cell_type": "code",
   "execution_count": 33,
   "metadata": {},
   "outputs": [
    {
     "data": {
      "text/plain": [
       "array([[ 43046721,      7776,       343],\n",
       "       [        9,         1, 134217728],\n",
       "       [      128,         4,   1679616]])"
      ]
     },
     "execution_count": 33,
     "metadata": {},
     "output_type": "execute_result"
    }
   ],
   "source": [
    "x - y # element wise subtraction of the\n",
    "x * y # element wise multiplication of the\n",
    "x / y # element wise division\n",
    "x // y # element wise subtraction of the\n",
    "x % y # element wise modulus of the\n",
    "x ** y # element wise exponentiation"
   ]
  },
  {
   "cell_type": "code",
   "execution_count": 34,
   "metadata": {},
   "outputs": [
    {
     "name": "stdout",
     "output_type": "stream",
     "text": [
      "[[127  94 137]\n",
      " [129  60 100]\n",
      " [ 62  44  90]]\n",
      "[[127  94 137]\n",
      " [129  60 100]\n",
      " [ 62  44  90]]\n",
      "[[-17  29  -3]\n",
      " [-47 -73  62]\n",
      " [ 26  26 -26]]\n",
      "[[127  94 137]\n",
      " [129  60 100]\n",
      " [ 62  44  90]]\n"
     ]
    }
   ],
   "source": [
    "print(np.dot(x,y)) # dot product of x and y\n",
    "print(x.dot(y)) # same dot product\n",
    "print(np.cross(x,y)) # cross product\n",
    "print(np.matmul(x,y)) # matrix multiplication"
   ]
  },
  {
   "cell_type": "code",
   "execution_count": 36,
   "metadata": {},
   "outputs": [
    {
     "name": "stdout",
     "output_type": "stream",
     "text": [
      "52\n",
      "[20 11 21]\n",
      "[22 18 12]\n",
      "5.777777777777778\n",
      "[6.66666667 3.66666667 7.        ]\n",
      "[7.33333333 6.         4.        ]\n",
      "2.739739556875101\n",
      "[3.29983165 2.05480467 0.81649658]\n",
      "[1.24721913 3.55902608 1.63299316]\n",
      "6.0\n",
      "[9. 4. 7.]\n",
      "[7. 8. 4.]\n"
     ]
    }
   ],
   "source": [
    "print(x.sum()) # sum of all elements in x\n",
    "print(x.sum(axis=0)) #sum of each column\n",
    "print(x.sum(axis=1)) #sum of each\n",
    "print(x.mean())\n",
    "print(x.mean(axis=0))\n",
    "print(x.mean(axis=1))\n",
    "print(x.std()) # standard derivation of the\n",
    "print(x.std(axis=0))\n",
    "print(x.std(axis=1)) # standard dev\n",
    "print(np.median(x)) #  median of all element\n",
    "print(np.median(x, axis=0)) # median of each column\n",
    "print(np.median(x, axis=1)) # median of each row"
   ]
  },
  {
   "cell_type": "code",
   "execution_count": 37,
   "metadata": {},
   "outputs": [],
   "source": [
    "import matplotlib.pyplot as plt"
   ]
  },
  {
   "cell_type": "code",
   "execution_count": 45,
   "metadata": {},
   "outputs": [
    {
     "data": {
      "image/png": "[encoded data removed]",
      "text/plain": [
       "<Figure size 432x288 with 1 Axes>"
      ]
     },
     "metadata": {
      "needs_background": "light"
     },
     "output_type": "display_data"
    }
   ],
   "source": [
    "t = np.linspace(0, 4*np.pi, 600)\n",
    "y = np.sin(t)\n",
    "x = np.cos(t)\n",
    "\n",
    "plt.plot(t,y)\n",
    "plt.plot(t,x, 'ro')\n",
    "plt.show()\n"
   ]
  },
  {
   "cell_type": "code",
   "execution_count": null,
   "metadata": {},
   "outputs": [],
   "source": []
  },
  {
   "cell_type": "code",
   "execution_count": null,
   "metadata": {},
   "outputs": [],
   "source": [
    "data = np.random.randint(1,10())"
   ]
  },
  {
   "cell_type": "code",
   "execution_count": null,
   "metadata": {},
   "outputs": [],
   "source": [
    "# noob way for getting the filtered data\n"
   ]
  },
  {
   "cell_type": "code",
   "execution_count": 1,
   "metadata": {},
   "outputs": [
    {
     "ename": "NameError",
     "evalue": "name 'data' is not defined",
     "output_type": "error",
     "traceback": [
      "\u001b[1;31m---------------------------------------------------------------------------\u001b[0m",
      "\u001b[1;31mNameError\u001b[0m                                 Traceback (most recent call last)",
      "\u001b[1;32mc:\\Users\\Manisha\\Documents\\Python Basic\\data_analytics\\numpy_basic.ipynb Cell 23\u001b[0m in \u001b[0;36m<cell line: 2>\u001b[1;34m()\u001b[0m\n\u001b[0;32m      <a href='vscode-notebook-cell:/c%3A/Users/Manisha/Documents/Python%20Basic/data_analytics/numpy_basic.ipynb#X31sZmlsZQ%3D%3D?line=0'>1</a>\u001b[0m \u001b[39m# python way to\u001b[39;00m\n\u001b[1;32m----> <a href='vscode-notebook-cell:/c%3A/Users/Manisha/Documents/Python%20Basic/data_analytics/numpy_basic.ipynb#X31sZmlsZQ%3D%3D?line=1'>2</a>\u001b[0m data \u001b[39m<\u001b[39m \u001b[39m500\u001b[39m\n",
      "\u001b[1;31mNameError\u001b[0m: name 'data' is not defined"
     ]
    }
   ],
   "source": [
    "# python way to\n",
    "data < 500 # boolean array"
   ]
  },
  {
   "cell_type": "code",
   "execution_count": null,
   "metadata": {},
   "outputs": [],
   "source": [
    "data [ data< 100]"
   ]
  },
  {
   "cell_type": "code",
   "execution_count": null,
   "metadata": {},
   "outputs": [],
   "source": [
    "data [( data < 100) | (data > 500)]"
   ]
  },
  {
   "cell_type": "code",
   "execution_count": null,
   "metadata": {},
   "outputs": [],
   "source": [
    "data"
   ]
  },
  {
   "cell_type": "code",
   "execution_count": null,
   "metadata": {},
   "outputs": [],
   "source": []
  }
 ],
 "metadata": {
  "kernelspec": {
   "display_name": "Python 3.9.12",
   "language": "python",
   "name": "python3"
  },
  "language_info": {
   "codemirror_mode": {
    "name": "ipython",
    "version": 3
   },
   "file_extension": ".py",
   "mimetype": "text/x-python",
   "name": "python",
   "nbconvert_exporter": "python",
   "pygments_lexer": "ipython3",
   "version": "3.9.12"
  },
  "orig_nbformat": 4,
  "vscode": {
   "interpreter": {
    "hash": "fd1cd5f0b72dbe9dddf4de0d29743e6815fe94eb35b607e2c1e6828f66551962"
   }
  }
 },
 "nbformat": 4,
 "nbformat_minor": 2
}
